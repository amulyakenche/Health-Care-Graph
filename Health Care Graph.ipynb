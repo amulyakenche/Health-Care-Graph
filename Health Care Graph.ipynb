{
  "nbformat": 4,
  "nbformat_minor": 0,
  "metadata": {
    "colab": {
      "provenance": []
    },
    "kernelspec": {
      "name": "python3",
      "display_name": "Python 3"
    },
    "language_info": {
      "name": "python"
    }
  },
  "cells": [
    {
      "cell_type": "code",
      "execution_count": 2,
      "metadata": {
        "colab": {
          "base_uri": "https://localhost:8080/"
        },
        "id": "D39qIUtw7VR_",
        "outputId": "44e85356-aa11-4142-c23f-2f3b78640ab4"
      },
      "outputs": [
        {
          "output_type": "stream",
          "name": "stdout",
          "text": [
            "{'name': 'John', 'age': 30, 'diagnosis': 'Flu'}\n",
            "['P1', 'diagnosis', 'age', 'name']\n"
          ]
        }
      ],
      "source": [
        "class HealthcareGraph:\n",
        "    def __init__(self):\n",
        "        self.graph = {}\n",
        "\n",
        "    def add_patient(self, patient_id, data):\n",
        "        self.graph[patient_id] = data\n",
        "\n",
        "    def delete_patient(self, patient_id):\n",
        "        if patient_id in self.graph:\n",
        "            del self.graph[patient_id]\n",
        "\n",
        "    def search_patient(self, patient_id):\n",
        "        if patient_id in self.graph:\n",
        "            return self.graph[patient_id]\n",
        "        else:\n",
        "            return None\n",
        "\n",
        "    def dfs(self, start_node):\n",
        "        visited = set()\n",
        "        stack = [start_node]\n",
        "        result = []\n",
        "\n",
        "        while stack:\n",
        "            node = stack.pop()\n",
        "            if node not in visited:\n",
        "                result.append(node)\n",
        "                visited.add(node)\n",
        "                stack.extend([neighbor for neighbor in self.graph.get(node, []) if neighbor not in visited])\n",
        "\n",
        "        return result\n",
        "\n",
        "# Usage\n",
        "healthcare_graph = HealthcareGraph()\n",
        "healthcare_graph.add_patient(\"P1\", {\"name\": \"John\", \"age\": 30, \"diagnosis\": \"Flu\"})\n",
        "healthcare_graph.add_patient(\"P2\", {\"name\": \"Alice\", \"age\": 45, \"diagnosis\": \"Diabetes\"})\n",
        "\n",
        "print(healthcare_graph.search_patient(\"P1\"))\n",
        "print(healthcare_graph.dfs(\"P1\"))\n"
      ]
    }
  ]
}